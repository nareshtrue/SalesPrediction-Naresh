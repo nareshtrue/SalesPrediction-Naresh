{
 "cells": [
  {
   "cell_type": "code",
   "execution_count": 1,
   "metadata": {
    "collapsed": true
   },
   "outputs": [],
   "source": [
    "import pandas as pd\n",
    "import numpy as np\n",
    "import re\n",
    "from nltk.corpus import RegexpTokenizer as regextoken\n",
    "import matplotlib.pyplot as mlpt"
   ]
  },
  {
   "cell_type": "code",
   "execution_count": 3,
   "metadata": {},
   "outputs": [
    {
     "ename": "NameError",
     "evalue": "name 'pd' is not defined",
     "output_type": "error",
     "traceback": [
      "\u001b[1;31m---------------------------------------------------------------------------\u001b[0m",
      "\u001b[1;31mNameError\u001b[0m                                 Traceback (most recent call last)",
      "\u001b[1;32m<ipython-input-3-58f2c334b423>\u001b[0m in \u001b[0;36m<module>\u001b[1;34m()\u001b[0m\n\u001b[1;32m----> 1\u001b[1;33m \u001b[0mdata\u001b[0m \u001b[1;33m=\u001b[0m \u001b[0mpd\u001b[0m\u001b[1;33m.\u001b[0m\u001b[0mread_excel\u001b[0m\u001b[1;33m(\u001b[0m\u001b[1;34m\"C:/Users/v-gimupp/Desktop/RefinedDatavthKB's.xlsx\"\u001b[0m\u001b[1;33m)\u001b[0m\u001b[1;33m\u001b[0m\u001b[0m\n\u001b[0m\u001b[0;32m      2\u001b[0m \u001b[1;33m\u001b[0m\u001b[0m\n\u001b[0;32m      3\u001b[0m \u001b[0mdata\u001b[0m\u001b[1;33m.\u001b[0m\u001b[0mcolumns\u001b[0m\u001b[1;33m=\u001b[0m\u001b[1;33m[\u001b[0m\u001b[1;34m'SD'\u001b[0m\u001b[1;33m,\u001b[0m\u001b[1;34m'KB'\u001b[0m\u001b[1;33m]\u001b[0m\u001b[1;33m\u001b[0m\u001b[0m\n\u001b[0;32m      4\u001b[0m \u001b[0mprint\u001b[0m\u001b[1;33m(\u001b[0m\u001b[0mtype\u001b[0m\u001b[1;33m(\u001b[0m\u001b[0mdata\u001b[0m\u001b[1;33m)\u001b[0m\u001b[1;33m)\u001b[0m\u001b[1;33m\u001b[0m\u001b[0m\n\u001b[0;32m      5\u001b[0m \u001b[1;31m#print(data)\u001b[0m\u001b[1;33m\u001b[0m\u001b[1;33m\u001b[0m\u001b[0m\n",
      "\u001b[1;31mNameError\u001b[0m: name 'pd' is not defined"
     ]
    }
   ],
   "source": [
    "data = pd.read_excel(\"C:/Users/v-gimupp/Desktop/RefinedDatavthKB's.xlsx\")\n",
    "\n",
    "data.columns=['SD','KB']\n",
    "print(type(data))\n",
    "#print(data)\n",
    "\n",
    "data1 = data['SD']\n",
    "\n",
    "list_data1 = data1.tolist()\n",
    "\n",
    "print(type(data1))\n",
    "\n",
    "print(range(len(list_data1)))\n",
    "len(list_data1)"
   ]
  },
  {
   "cell_type": "code",
   "execution_count": 5,
   "metadata": {},
   "outputs": [
    {
     "name": "stdout",
     "output_type": "stream",
     "text": [
      "<class 'pandas.core.series.Series'>\n",
      "0                                           Login issues\n",
      "1       PT. Avnet Datamation Solutions New Channel Pa...\n",
      "2      MSGBUSAlert A message has been suspended in Bi...\n",
      "3      BAM Exception OA Fulfillment Alert on Key Deli...\n",
      "4                                    New ODR Distributor\n",
      "5       CRM Invalids De La Rue International Limited ...\n",
      "6                    MS OEM Administrator change request\n",
      "7      Please setup agreement PARROT AUTOMOTIVE SAS S...\n",
      "8       Site connectivity issue [Intl Research Bangko...\n",
      "9          IPS Penang Power Supply Interruption (March )\n",
      "10     Action Required LW to SAP Amendment feed is DO...\n",
      "11     PQT KEYNOTE OA . Return Ack Pilot Availability...\n",
      "12      BAM OA Promtions Warning Promo Ack Alert On D...\n",
      "13     BAM Exception OA Fulfillment Alert on Key Deli...\n",
      "14                                 Company administrator\n",
      "15     CRM TPI/OM Request Yifang Digital (Hong Kong) ...\n",
      "16     CRM TPI/OM Request EMDOOR DIGITAL TECHNOLOGY C...\n",
      "17      BAM Exception OA Fulfillment Alert On Continu...\n",
      "18     OA PQT BAM PQ Exception OA Returns Alert on Ac...\n",
      "19      BAM PROMOTIONS Warning Promo Ack Alert On Dat...\n",
      "20                            PQTReturn function is busy\n",
      "21      BAM Exception OA Order Alert on Order Ack Ava...\n",
      "22     UrgentJMIOrders are not flowing into the POD P...\n",
      "23      BAM Key Blocking LENOVO PC HK LTD. Exception ...\n",
      "24     CRM URGENT PartnerSiteDataForm New MyCom B.V. ...\n",
      "25                         MSGBUSCluster resource failed\n",
      "26     CRM TPI/OM Request Uniwill Technology Inc. Upd...\n",
      "27     CRM Sold to APOLLO HOLDINGS LIMITEDTPI/OM Requ...\n",
      "28                                          PP in Brazil\n",
      "29     OA BAM Exception Promo Upload Alert on Ack Ava...\n",
      "                             ...                        \n",
      "268     SCOM Warning PHOEMPBAMRS SQL Job Failed BAM P...\n",
      "269                            Orion Orders Missing Acks\n",
      "270    PQT BAM OA Returns LLC SUMMIT TECHNOLOGIES PQ ...\n",
      "271    [Request] Adding Admin to NamedOEM Account New...\n",
      "272    BAM Exception OA ReturnUST Alert On Ack Availa...\n",
      "273    BAM Exception OA Fulfillment Alert on Key Deli...\n",
      "274     PQT BAM PQ Exception OA Returns Alert on Ack ...\n",
      "275     [Failed] SQL Server Job System 'SPTPullSALEOE...\n",
      "276    PQT BAM PQ Exception OA CBR Alert on Ack Avail...\n",
      "277     BAM Exception OA Fulfillment Alert On Continu...\n",
      "278     BAM FULFILLMENT LENOVO PC HK LTD. Exception O...\n",
      "279     BAM FULFILLMENT HP Inc. Exception OA Fulfillm...\n",
      "280     BAM FULFILLMENT ASUSTEK COMPUTER . Exception ...\n",
      "281     BAM FULFILLMENT SAMSUNG ELECTRONICS CO. LTD. ...\n",
      "282    PQT BAM OA Returns CLOUD OA LAB PQ Exception O...\n",
      "283      BAM Exception OA CBR Alert on Ack Available min\n",
      "284      BAM Exception OA CBR Alert on Ack Available min\n",
      "285    BAM Exception OA Order Alert on Order Ack Avai...\n",
      "286                      OBI RR Daily Report Test Apr AM\n",
      "287    BAM Exception OA Returns Alert on Ack Availabl...\n",
      "288    BAM Exception OA ReturnUST Alert On Ack Availa...\n",
      "289    PQTBAM OA Returns NP PQ Exception OA Returns A...\n",
      "290    OA BAM CBR's Exception OA CBR Alert on Ack Ava...\n",
      "291     SCOM Warning COOEMPDSQLOA SQL Job Failed DBAL...\n",
      "292     BAM CBR DELL . Exception OA CBR Alert on Ack ...\n",
      "293    BAM OA CBR Exception OA CBR Alert on Ack Avail...\n",
      "294     SCOM Warning COOEMPDSQLOA SQL Job Failed DBAL...\n",
      "295     SCOM Warning IOPDBSQLCOR SQL Job Failed DBABa...\n",
      "296     BAM DELIVERY Exception OA Immediate Delivery ...\n",
      "297     MSGBUS Alert A message has been suspended in ...\n",
      "Name: SD, Length: 298, dtype: object\n"
     ]
    }
   ],
   "source": [
    "for i in range(len(list_data1)):\n",
    "    list_data1[i]=re.sub(r'\\s+', ' ', list_data1[i]) #Removing white spaces in the sentence\n",
    "    list_data1[i]=re.sub('[\\d]', '',list_data1[i]) #Removing numbers\n",
    "    list_data1[i]=re.sub('PROD', '',list_data1[i] ) \n",
    "    list_data1[i]=re.sub('INC', '',list_data1[i] ) \n",
    "    list_data1[i]=re.sub('FW', '',list_data1[i] ) \n",
    "    list_data1[i]=re.sub('RE', '',list_data1[i] ) \n",
    "    list_data1[i]=re.sub('SLA', '',list_data1[i] ) \n",
    "    list_data1[i]=re.sub('[-,|,!,-,_,:,@]', '',list_data1[i] ) \n",
    "    #list_data1[i] = nltk.tokenize.word_tokenize(list_data1[i])\n",
    " \n",
    "\n",
    "data['SD'] = list_data1 \n",
    "\n",
    "#re.search('FW',list_data1)\n",
    "\n",
    "print(type(data['SD']))\n",
    "print(data['SD'])\n",
    "\n",
    "\n",
    "#from nltk.corpus import stopwords\n",
    "#stop = stopwords.words('english')\n",
    "#print(stop)\n",
    "#tokens = [i for i in data['SD'] if i not in stop]\n",
    "#print(tokens.index('-_Missing Feed from RMA - HP Inc'))\n",
    "#data1['SD']=tokens\n",
    "#print(data1['SD'])\n",
    "#type(tokens)"
   ]
  },
  {
   "cell_type": "code",
   "execution_count": 6,
   "metadata": {
    "collapsed": true
   },
   "outputs": [],
   "source": [
    "#Get TF-IDFs.\n",
    "from sklearn.feature_extraction.text import TfidfVectorizer\n",
    "tfidf_vectorizer = TfidfVectorizer(ngram_range=(1,1))#max_df=0.95, min_df=2, stop_words='english' #USE HELP TO SEE WHAT EACH DOES)\n",
    "tfidf = tfidf_vectorizer.fit_transform(data['SD'])\n",
    "\n",
    "#print(tfidf)"
   ]
  },
  {
   "cell_type": "code",
   "execution_count": 11,
   "metadata": {},
   "outputs": [
    {
     "name": "stdout",
     "output_type": "stream",
     "text": [
      "['KB0016516']\n"
     ]
    }
   ],
   "source": [
    "from sklearn.naive_bayes import MultinomialNB\n",
    "clf = MultinomialNB().fit(tfidf, data['KB'])\n",
    "\n",
    "docs=['OA30 CBR Alert']\n",
    "\n",
    "X_new_tfidf_1 = tfidf_vectorizer.transform(docs)\n",
    "predicted = clf.predict(X_new_tfidf_1)\n",
    "print(predicted)"
   ]
  },
  {
   "cell_type": "code",
   "execution_count": null,
   "metadata": {
    "collapsed": true
   },
   "outputs": [],
   "source": []
  }
 ],
 "metadata": {
  "kernelspec": {
   "display_name": "Python 3",
   "language": "python",
   "name": "python3"
  },
  "language_info": {
   "codemirror_mode": {
    "name": "ipython",
    "version": 3
   },
   "file_extension": ".py",
   "mimetype": "text/x-python",
   "name": "python",
   "nbconvert_exporter": "python",
   "pygments_lexer": "ipython3",
   "version": "3.6.1"
  }
 },
 "nbformat": 4,
 "nbformat_minor": 2
}
